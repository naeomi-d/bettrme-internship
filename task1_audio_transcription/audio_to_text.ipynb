{
  "nbformat": 4,
  "nbformat_minor": 0,
  "metadata": {
    "colab": {
      "provenance": [],
      "gpuType": "T4"
    },
    "kernelspec": {
      "name": "python3",
      "display_name": "Python 3"
    },
    "language_info": {
      "name": "python"
    },
    "accelerator": "GPU"
  },
  "cells": [
    {
      "cell_type": "code",
      "source": [
        "# Install Whisper model from GitHub using pip.\n",
        "# This command installs the Whisper model directly from the OpenAI repository on GitHub.\n",
        "!pip install git+https://github.com/openai/whisper.git -q\n"
      ],
      "metadata": {
        "colab": {
          "base_uri": "https://localhost:8080/"
        },
        "id": "2x54k6mYkrm5",
        "outputId": "e80e8c8e-b4d5-4f82-9ea6-cc404306077d"
      },
      "execution_count": null,
      "outputs": [
        {
          "output_type": "stream",
          "name": "stdout",
          "text": [
            "  Installing build dependencies ... \u001b[?25l\u001b[?25hdone\n",
            "  Getting requirements to build wheel ... \u001b[?25l\u001b[?25hdone\n",
            "  Preparing metadata (pyproject.toml) ... \u001b[?25l\u001b[?25hdone\n"
          ]
        }
      ]
    },
    {
      "cell_type": "code",
      "execution_count": null,
      "metadata": {
        "id": "21Udf5EJi3Fl",
        "colab": {
          "base_uri": "https://localhost:8080/"
        },
        "outputId": "9bafc66b-dbe1-4db0-dd00-c8d405df6bfb"
      },
      "outputs": [
        {
          "output_type": "stream",
          "name": "stdout",
          "text": [
            "Mounted at /content/drive\n"
          ]
        }
      ],
      "source": [
        "# Mount Google Drive to Google Colab.\n",
        "from google.colab import drive\n",
        "drive.mount('/content/drive')\n"
      ]
    },
    {
      "cell_type": "code",
      "source": [
        "import os\n",
        "\n",
        "# Define paths\n",
        "input_dir = \"/content/drive/My Drive/whisper_transcription/input_audio\"\n",
        "output_dir = \"/content/drive/My Drive/whisper_transcription/output_text\"\n",
        "\n",
        "# Create output directory if it doesn't exist\n",
        "os.makedirs(output_dir, exist_ok=True)\n",
        "\n",
        "print(\"Folders are ready!\")\n"
      ],
      "metadata": {
        "colab": {
          "base_uri": "https://localhost:8080/"
        },
        "id": "jDVfxEhnjz-5",
        "outputId": "a94f37c6-5c0f-433c-8442-41099a1f1325"
      },
      "execution_count": null,
      "outputs": [
        {
          "output_type": "stream",
          "name": "stdout",
          "text": [
            "Folders are ready!\n"
          ]
        }
      ]
    },
    {
      "cell_type": "code",
      "source": [
        "import whisper\n",
        "import os\n",
        "\n",
        "# Load Whisper model\n",
        "model = whisper.load_model(\"medium\")\n",
        "\n",
        "# Get all audio files in the input directory\n",
        "audio_files = [f for f in os.listdir(input_dir) if f.endswith((\".mp3\", \".wav\"))]\n",
        "\n",
        "for audio_file in audio_files:\n",
        "    audio_path = os.path.join(input_dir, audio_file)\n",
        "    output_path = os.path.join(output_dir, audio_file.replace(\".mp3\", \".txt\").replace(\".wav\", \".txt\"))\n",
        "\n",
        "    # Check if transcript already exists\n",
        "    if os.path.exists(output_path):\n",
        "        print(f\"Skipping {audio_file}, already transcribed.\")\n",
        "        continue\n",
        "\n",
        "    print(f\"Processing: {audio_file}\")\n",
        "\n",
        "    # Transcribe audio\n",
        "    result = model.transcribe(audio_path)\n",
        "\n",
        "    # Save transcription to text file\n",
        "    with open(output_path, \"w\") as f:\n",
        "        f.write(result[\"text\"])\n",
        "\n",
        "    print(f\"Saved: {output_path}\")\n"
      ],
      "metadata": {
        "colab": {
          "base_uri": "https://localhost:8080/"
        },
        "id": "h3mQx1h7kUOK",
        "outputId": "385c59d4-e402-4242-e4cb-f4b053e07349"
      },
      "execution_count": null,
      "outputs": [
        {
          "output_type": "stream",
          "name": "stderr",
          "text": [
            "100%|█████████████████████████████████████| 1.42G/1.42G [00:31<00:00, 48.2MiB/s]\n",
            "/usr/local/lib/python3.11/dist-packages/whisper/__init__.py:150: FutureWarning: You are using `torch.load` with `weights_only=False` (the current default value), which uses the default pickle module implicitly. It is possible to construct malicious pickle data which will execute arbitrary code during unpickling (See https://github.com/pytorch/pytorch/blob/main/SECURITY.md#untrusted-models for more details). In a future release, the default value for `weights_only` will be flipped to `True`. This limits the functions that could be executed during unpickling. Arbitrary objects will no longer be allowed to be loaded via this mode unless they are explicitly allowlisted by the user via `torch.serialization.add_safe_globals`. We recommend you start setting `weights_only=True` for any use case where you don't have full control of the loaded file. Please open an issue on GitHub for any issues related to this experimental feature.\n",
            "  checkpoint = torch.load(fp, map_location=device)\n"
          ]
        },
        {
          "output_type": "stream",
          "name": "stdout",
          "text": [
            "Processing: WhatsApp Ptt 2025-01-31 at 12.24.59.mp3\n",
            "Saved: /content/drive/My Drive/whisper_transcription/output_text/WhatsApp Ptt 2025-01-31 at 12.24.59.txt\n"
          ]
        }
      ]
    }
  ]
}